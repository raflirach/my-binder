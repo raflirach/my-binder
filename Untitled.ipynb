{
 "cells": [
  {
   "cell_type": "code",
   "execution_count": 1,
   "id": "vital-ireland",
   "metadata": {},
   "outputs": [],
   "source": [
    "# Voila Web App\n",
    "\n",
    "## A website built out of a Jupyter notebook using Voila"
   ]
  },
  {
   "cell_type": "code",
   "execution_count": 3,
   "id": "guilty-underwear",
   "metadata": {},
   "outputs": [
    {
     "name": "stdout",
     "output_type": "stream",
     "text": [
      "1\n",
      "5 10 100 32 33 40\n",
      "20.000%\n"
     ]
    }
   ],
   "source": [
    "n = int(input())\n",
    "\n",
    "for i in range(0, n):\n",
    "    a = list(input().split())\n",
    "\n",
    "    a.pop(0)\n",
    "    a = list(map(int, a))\n",
    "    avg = sum(a) / len(a)\n",
    "\n",
    "    high = 0\n",
    "    for j in a:\n",
    "        if j > avg:\n",
    "            high += 1\n",
    "\n",
    "    print(\"{:.3%}\".format(high / len(a)))"
   ]
  },
  {
   "cell_type": "code",
   "execution_count": null,
   "id": "phantom-cholesterol",
   "metadata": {},
   "outputs": [],
   "source": []
  }
 ],
 "metadata": {
  "kernelspec": {
   "display_name": "Python 3",
   "language": "python",
   "name": "python3"
  },
  "language_info": {
   "codemirror_mode": {
    "name": "ipython",
    "version": 3
   },
   "file_extension": ".py",
   "mimetype": "text/x-python",
   "name": "python",
   "nbconvert_exporter": "python",
   "pygments_lexer": "ipython3",
   "version": "3.8.5"
  }
 },
 "nbformat": 4,
 "nbformat_minor": 5
}

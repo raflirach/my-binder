{
 "cells": [
  {
   "cell_type": "code",
   "execution_count": 2,
   "metadata": {},
   "outputs": [
    {
     "output_type": "stream",
     "name": "stdout",
     "text": [
      "152\n",
      "70\n"
     ]
    }
   ],
   "source": [
    "t = int(input())\n",
    "for _ in range(t):\n",
    "    n = int(input())\n",
    "    x = list(map(int, input().split()))\n",
    "    x.sort()\n",
    "    result = abs(x[0] - x[n - 1])\n",
    "    print(result*2)"
   ]
  },
  {
   "cell_type": "code",
   "execution_count": 3,
   "metadata": {},
   "outputs": [
    {
     "output_type": "stream",
     "name": "stdout",
     "text": [
      "no\n"
     ]
    }
   ],
   "source": [
    "words = list(input().split())\n",
    "count = 0\n",
    "for i in range(0, len(words)):  \n",
    "    for j in range(i+1, len(words)):  \n",
    "        if(words[i] == (words[j])):  \n",
    "            count+= 1\n",
    "\n",
    "if(count > 0):  \n",
    "    print('no')\n",
    "else: \n",
    "    print(\"yes\")  "
   ]
  },
  {
   "cell_type": "code",
   "execution_count": 4,
   "id": "guilty-underwear",
   "metadata": {},
   "outputs": [
    {
     "output_type": "stream",
     "name": "stdout",
     "text": [
      "40.000%\n",
      "57.143%\n",
      "33.333%\n",
      "66.667%\n",
      "55.556%\n"
     ]
    }
   ],
   "source": [
    "n = int(input())\n",
    "\n",
    "for i in range(0, n):\n",
    "    a = list(input().split())\n",
    "\n",
    "    a.pop(0)\n",
    "    a = list(map(int, a))\n",
    "    avg = sum(a) / len(a)\n",
    "\n",
    "    high = 0\n",
    "    for j in a:\n",
    "        if j > avg:\n",
    "            high += 1\n",
    "\n",
    "    print(\"{:.3%}\".format(high / len(a)))"
   ]
  },
  {
   "cell_type": "code",
   "execution_count": 5,
   "metadata": {},
   "outputs": [
    {
     "output_type": "stream",
     "name": "stdout",
     "text": [
      "141-143 147 175 180\n"
     ]
    }
   ],
   "source": [
    "n = int(input())\n",
    "buses = sorted(map(int, input().split()))\n",
    "\n",
    "buses.append(float('inf'))\n",
    "\n",
    "chain = 1\n",
    "prev = buses[0]\n",
    "\n",
    "output = []\n",
    "i = 1\n",
    "while i < len(buses):\n",
    "    current = buses[i]\n",
    "    if current == prev + 1:\n",
    "        chain += 1\n",
    "    else:\n",
    "        if chain >= 3:\n",
    "            output.append(str(buses[i-chain]) + \"-\" + str(buses[i-1]))\n",
    "        elif chain == 2:\n",
    "            output.append(buses[i-2])\n",
    "            output.append(buses[i-1])\n",
    "        else:\n",
    "            output.append(buses[i-1])\n",
    "        chain = 1\n",
    "    prev = current\n",
    "    i += 1\n",
    "\n",
    "print(' '.join([str(i) for i in output]))"
   ]
  },
  {
   "cell_type": "code",
   "execution_count": null,
   "id": "phantom-cholesterol",
   "metadata": {},
   "outputs": [],
   "source": []
  }
 ],
 "metadata": {
  "kernelspec": {
   "display_name": "Python 3",
   "language": "python",
   "name": "python3"
  },
  "language_info": {
   "codemirror_mode": {
    "name": "ipython",
    "version": 3
   },
   "file_extension": ".py",
   "mimetype": "text/x-python",
   "name": "python",
   "nbconvert_exporter": "python",
   "pygments_lexer": "ipython3",
   "version": "3.8.5-final"
  }
 },
 "nbformat": 4,
 "nbformat_minor": 5
}